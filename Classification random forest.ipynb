import pandas as pd
import numpy as np
from sklearn.datasets import load_iris
from sklearn.ensemble import RandomForestClassifier

data = load_iris()
data
mydata = pd.DataFrame(data.data,columns=data.feature_names)
mydata.head(4)
